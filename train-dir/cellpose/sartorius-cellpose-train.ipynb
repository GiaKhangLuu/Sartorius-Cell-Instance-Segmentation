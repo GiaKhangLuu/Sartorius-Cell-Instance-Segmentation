{
 "cells": [
  {
   "cell_type": "code",
   "execution_count": 1,
   "id": "f387f796",
   "metadata": {
    "execution": {
     "iopub.execute_input": "2022-06-26T05:49:43.879883Z",
     "iopub.status.busy": "2022-06-26T05:49:43.879206Z",
     "iopub.status.idle": "2022-06-26T05:52:15.045316Z",
     "shell.execute_reply": "2022-06-26T05:52:15.044298Z"
    },
    "papermill": {
     "duration": 151.180681,
     "end_time": "2022-06-26T05:52:15.047748",
     "exception": false,
     "start_time": "2022-06-26T05:49:43.867067",
     "status": "completed"
    },
    "tags": []
   },
   "outputs": [
    {
     "name": "stdout",
     "output_type": "stream",
     "text": [
      "\u001b[33mWARNING: Running pip as the 'root' user can result in broken permissions and conflicting behaviour with the system package manager. It is recommended to use a virtual environment instead: https://pip.pypa.io/warnings/venv\u001b[0m\u001b[33m\r\n",
      "\u001b[0m\u001b[33mWARNING: Running pip as the 'root' user can result in broken permissions and conflicting behaviour with the system package manager. It is recommended to use a virtual environment instead: https://pip.pypa.io/warnings/venv\u001b[0m\u001b[33m\r\n",
      "\u001b[0m\u001b[33mWARNING: Running pip as the 'root' user can result in broken permissions and conflicting behaviour with the system package manager. It is recommended to use a virtual environment instead: https://pip.pypa.io/warnings/venv\u001b[0m\u001b[33m\r\n",
      "\u001b[0m\u001b[33mWARNING: Running pip as the 'root' user can result in broken permissions and conflicting behaviour with the system package manager. It is recommended to use a virtual environment instead: https://pip.pypa.io/warnings/venv\u001b[0m\u001b[33m\r\n",
      "\u001b[0m\u001b[33mWARNING: Running pip as the 'root' user can result in broken permissions and conflicting behaviour with the system package manager. It is recommended to use a virtual environment instead: https://pip.pypa.io/warnings/venv\u001b[0m\u001b[33m\r\n",
      "\u001b[0mCollecting opencv-python-headless==4.1.2.30\r\n",
      "  Downloading opencv_python_headless-4.1.2.30-cp37-cp37m-manylinux1_x86_64.whl (21.8 MB)\r\n",
      "\u001b[2K     \u001b[90m━━━━━━━━━━━━━━━━━━━━━━━━━━━━━━━━━━━━━━━━\u001b[0m \u001b[32m21.8/21.8 MB\u001b[0m \u001b[31m30.7 MB/s\u001b[0m eta \u001b[36m0:00:00\u001b[0m\r\n",
      "\u001b[?25hRequirement already satisfied: numpy>=1.14.5 in /opt/conda/lib/python3.7/site-packages (from opencv-python-headless==4.1.2.30) (1.21.6)\r\n",
      "Installing collected packages: opencv-python-headless\r\n",
      "  Attempting uninstall: opencv-python-headless\r\n",
      "    Found existing installation: opencv-python-headless 4.5.4.60\r\n",
      "    Uninstalling opencv-python-headless-4.5.4.60:\r\n",
      "      Successfully uninstalled opencv-python-headless-4.5.4.60\r\n",
      "Successfully installed opencv-python-headless-4.1.2.30\r\n",
      "\u001b[33mWARNING: Running pip as the 'root' user can result in broken permissions and conflicting behaviour with the system package manager. It is recommended to use a virtual environment instead: https://pip.pypa.io/warnings/venv\u001b[0m\u001b[33m\r\n",
      "\u001b[0m\u001b[33mWARNING: Running pip as the 'root' user can result in broken permissions and conflicting behaviour with the system package manager. It is recommended to use a virtual environment instead: https://pip.pypa.io/warnings/venv\u001b[0m\u001b[33m\r\n",
      "\u001b[0m\u001b[33mWARNING: Running pip as the 'root' user can result in broken permissions and conflicting behaviour with the system package manager. It is recommended to use a virtual environment instead: https://pip.pypa.io/warnings/venv\u001b[0m\u001b[33m\r\n",
      "\u001b[0m\u001b[33mWARNING: Running pip as the 'root' user can result in broken permissions and conflicting behaviour with the system package manager. It is recommended to use a virtual environment instead: https://pip.pypa.io/warnings/venv\u001b[0m\u001b[33m\r\n",
      "\u001b[0m\u001b[33mWARNING: Running pip as the 'root' user can result in broken permissions and conflicting behaviour with the system package manager. It is recommended to use a virtual environment instead: https://pip.pypa.io/warnings/venv\u001b[0m\u001b[33m\r\n",
      "\u001b[0m\u001b[33mWARNING: Running pip as the 'root' user can result in broken permissions and conflicting behaviour with the system package manager. It is recommended to use a virtual environment instead: https://pip.pypa.io/warnings/venv\u001b[0m\u001b[33m\r\n",
      "\u001b[0m\u001b[33mWARNING: Running pip as the 'root' user can result in broken permissions and conflicting behaviour with the system package manager. It is recommended to use a virtual environment instead: https://pip.pypa.io/warnings/venv\u001b[0m\u001b[33m\r\n",
      "\u001b[0m"
     ]
    }
   ],
   "source": [
    "!pip uninstall -y -q yellowbrick\n",
    "\n",
    "!pip install -q tifffile # contains tools to operate tiff-files\n",
    "!pip install -q folium==0.2.1\n",
    "!pip install -q imgaug==0.2.5\n",
    "!pip install -q opencv-python==3.4.5.20\n",
    "!pip install opencv-python-headless==4.1.2.30\n",
    "!pip install -q wget\n",
    "!pip install -q memory_profiler\n",
    "!pip install -q fpdf\n",
    "!pip install -q pycocotools\n",
    "!pip install -q fastremap\n",
    "!pip install -q natsort"
   ]
  },
  {
   "cell_type": "code",
   "execution_count": 2,
   "id": "a057ba8e",
   "metadata": {
    "execution": {
     "iopub.execute_input": "2022-06-26T05:52:15.064789Z",
     "iopub.status.busy": "2022-06-26T05:52:15.064035Z",
     "iopub.status.idle": "2022-06-26T05:52:15.069304Z",
     "shell.execute_reply": "2022-06-26T05:52:15.068595Z"
    },
    "papermill": {
     "duration": 0.015405,
     "end_time": "2022-06-26T05:52:15.071018",
     "exception": false,
     "start_time": "2022-06-26T05:52:15.055613",
     "status": "completed"
    },
    "tags": []
   },
   "outputs": [],
   "source": [
    "import sys\n",
    "sys.path.append('../input/sartorius-instance-segmentation/cellpose/cellpose')"
   ]
  },
  {
   "cell_type": "code",
   "execution_count": 3,
   "id": "9de3f8e0",
   "metadata": {
    "execution": {
     "iopub.execute_input": "2022-06-26T05:52:15.086791Z",
     "iopub.status.busy": "2022-06-26T05:52:15.086378Z",
     "iopub.status.idle": "2022-06-26T05:52:21.929017Z",
     "shell.execute_reply": "2022-06-26T05:52:21.928236Z"
    },
    "papermill": {
     "duration": 6.85347,
     "end_time": "2022-06-26T05:52:21.931632",
     "exception": false,
     "start_time": "2022-06-26T05:52:15.078162",
     "status": "completed"
    },
    "tags": []
   },
   "outputs": [],
   "source": [
    "import numpy as np\n",
    "import pandas as pd\n",
    "from tqdm import tqdm\n",
    "import matplotlib.pyplot as plt\n",
    "import os\n",
    "import tifffile\n",
    "import imageio\n",
    "import glob\n",
    "import shutil\n",
    "from cellpose import models, io, plot\n",
    "import glob\n",
    "import shutil\n",
    "import imgaug.augmenters as iaa\n",
    "import imgaug as ia\n",
    "import time\n",
    "import cv2"
   ]
  },
  {
   "cell_type": "code",
   "execution_count": 4,
   "id": "14431199",
   "metadata": {
    "execution": {
     "iopub.execute_input": "2022-06-26T05:52:21.948575Z",
     "iopub.status.busy": "2022-06-26T05:52:21.948107Z",
     "iopub.status.idle": "2022-06-26T05:52:21.951892Z",
     "shell.execute_reply": "2022-06-26T05:52:21.951174Z"
    },
    "papermill": {
     "duration": 0.013911,
     "end_time": "2022-06-26T05:52:21.953493",
     "exception": false,
     "start_time": "2022-06-26T05:52:21.939582",
     "status": "completed"
    },
    "tags": []
   },
   "outputs": [],
   "source": [
    "# Original Image Dimensions\n",
    "HEIGHT = 520\n",
    "WIDTH = 704\n",
    "SHAPE = (HEIGHT, WIDTH)"
   ]
  },
  {
   "cell_type": "code",
   "execution_count": 5,
   "id": "f9ac0467",
   "metadata": {
    "execution": {
     "iopub.execute_input": "2022-06-26T05:52:21.969137Z",
     "iopub.status.busy": "2022-06-26T05:52:21.968885Z",
     "iopub.status.idle": "2022-06-26T05:52:21.975241Z",
     "shell.execute_reply": "2022-06-26T05:52:21.974553Z"
    },
    "papermill": {
     "duration": 0.016192,
     "end_time": "2022-06-26T05:52:21.976858",
     "exception": false,
     "start_time": "2022-06-26T05:52:21.960666",
     "status": "completed"
    },
    "tags": []
   },
   "outputs": [],
   "source": [
    "def rles_to_mask(encs, shape=SHAPE):\n",
    "    \"\"\"\n",
    "    Decodes a rle.\n",
    "\n",
    "    Args:\n",
    "        encs (list of str): Rles for each class.\n",
    "        shape (tuple [2]): Mask size.\n",
    "\n",
    "    Returns:\n",
    "        np array [shape]: Mask.\n",
    "    \"\"\"\n",
    "    img = np.zeros(shape[0] * shape[1], dtype=np.uint)\n",
    "    if type(encs)==float:\n",
    "        return img\n",
    "    for m, enc in enumerate(encs):\n",
    "        if isinstance(enc, np.float) and np.isnan(enc):\n",
    "            continue\n",
    "        enc_split = enc.split()\n",
    "        for i in range(len(enc_split) // 2):\n",
    "            start = int(enc_split[2 * i]) - 1\n",
    "            length = int(enc_split[2 * i + 1])\n",
    "            img[start: start + length] = 1 + m\n",
    "    return img.reshape(shape)"
   ]
  },
  {
   "cell_type": "markdown",
   "id": "55966e87",
   "metadata": {
    "papermill": {
     "duration": 0.007547,
     "end_time": "2022-06-26T05:52:21.992130",
     "exception": false,
     "start_time": "2022-06-26T05:52:21.984583",
     "status": "completed"
    },
    "tags": []
   },
   "source": [
    "## <font color='gold'/> **Prepare data**"
   ]
  },
  {
   "cell_type": "code",
   "execution_count": 6,
   "id": "fcc80f9e",
   "metadata": {
    "execution": {
     "iopub.execute_input": "2022-06-26T05:52:22.007724Z",
     "iopub.status.busy": "2022-06-26T05:52:22.007474Z",
     "iopub.status.idle": "2022-06-26T05:52:22.010977Z",
     "shell.execute_reply": "2022-06-26T05:52:22.010209Z"
    },
    "papermill": {
     "duration": 0.013391,
     "end_time": "2022-06-26T05:52:22.012747",
     "exception": false,
     "start_time": "2022-06-26T05:52:21.999356",
     "status": "completed"
    },
    "tags": []
   },
   "outputs": [],
   "source": [
    "orig_train_dataset_folder = '../input/sartorius-cellpose-dataset/train'\n",
    "orig_val_dataset_folder = '../input/sartorius-cellpose-dataset/val'"
   ]
  },
  {
   "cell_type": "code",
   "execution_count": 7,
   "id": "0892adec",
   "metadata": {
    "execution": {
     "iopub.execute_input": "2022-06-26T05:52:22.028557Z",
     "iopub.status.busy": "2022-06-26T05:52:22.028280Z",
     "iopub.status.idle": "2022-06-26T05:52:24.037642Z",
     "shell.execute_reply": "2022-06-26T05:52:24.036296Z"
    },
    "papermill": {
     "duration": 2.020467,
     "end_time": "2022-06-26T05:52:24.040386",
     "exception": false,
     "start_time": "2022-06-26T05:52:22.019919",
     "status": "completed"
    },
    "tags": []
   },
   "outputs": [],
   "source": [
    "!mkdir './cellpose_dataset_train'\n",
    "!mkdir './cellpose_dataset_val'\n",
    "!mkdir './models'"
   ]
  },
  {
   "cell_type": "code",
   "execution_count": 8,
   "id": "3593fbd4",
   "metadata": {
    "execution": {
     "iopub.execute_input": "2022-06-26T05:52:24.057131Z",
     "iopub.status.busy": "2022-06-26T05:52:24.056818Z",
     "iopub.status.idle": "2022-06-26T05:52:30.327823Z",
     "shell.execute_reply": "2022-06-26T05:52:30.326973Z"
    },
    "papermill": {
     "duration": 6.281945,
     "end_time": "2022-06-26T05:52:30.330129",
     "exception": false,
     "start_time": "2022-06-26T05:52:24.048184",
     "status": "completed"
    },
    "tags": []
   },
   "outputs": [],
   "source": [
    "for f in glob.glob(os.path.join(orig_train_dataset_folder, '*.tif')):\n",
    "    if 'flows' not in f:\n",
    "        shutil.copy(f, os.path.join('./cellpose_dataset_train', f.split('/')[-1]))"
   ]
  },
  {
   "cell_type": "code",
   "execution_count": 9,
   "id": "326434f7",
   "metadata": {
    "execution": {
     "iopub.execute_input": "2022-06-26T05:52:30.347523Z",
     "iopub.status.busy": "2022-06-26T05:52:30.346797Z",
     "iopub.status.idle": "2022-06-26T05:52:31.848434Z",
     "shell.execute_reply": "2022-06-26T05:52:31.847495Z"
    },
    "papermill": {
     "duration": 1.512156,
     "end_time": "2022-06-26T05:52:31.850511",
     "exception": false,
     "start_time": "2022-06-26T05:52:30.338355",
     "status": "completed"
    },
    "tags": []
   },
   "outputs": [],
   "source": [
    "for f in glob.glob(os.path.join(orig_val_dataset_folder, '*.tif')):\n",
    "    if 'flows' not in f:\n",
    "        shutil.copy(f, os.path.join('./cellpose_dataset_val', f.split('/')[-1]))"
   ]
  },
  {
   "cell_type": "code",
   "execution_count": 10,
   "id": "6183560d",
   "metadata": {
    "execution": {
     "iopub.execute_input": "2022-06-26T05:52:31.867439Z",
     "iopub.status.busy": "2022-06-26T05:52:31.867123Z",
     "iopub.status.idle": "2022-06-26T05:52:31.870864Z",
     "shell.execute_reply": "2022-06-26T05:52:31.870001Z"
    },
    "papermill": {
     "duration": 0.014053,
     "end_time": "2022-06-26T05:52:31.872706",
     "exception": false,
     "start_time": "2022-06-26T05:52:31.858653",
     "status": "completed"
    },
    "tags": []
   },
   "outputs": [],
   "source": [
    "train_folder = './cellpose_dataset_train'\n",
    "test_folder = './cellpose_dataset_val'"
   ]
  },
  {
   "cell_type": "code",
   "execution_count": 11,
   "id": "21102c77",
   "metadata": {
    "execution": {
     "iopub.execute_input": "2022-06-26T05:52:31.888763Z",
     "iopub.status.busy": "2022-06-26T05:52:31.888512Z",
     "iopub.status.idle": "2022-06-26T05:52:33.243962Z",
     "shell.execute_reply": "2022-06-26T05:52:33.242987Z"
    },
    "papermill": {
     "duration": 1.365616,
     "end_time": "2022-06-26T05:52:33.246053",
     "exception": false,
     "start_time": "2022-06-26T05:52:31.880437",
     "status": "completed"
    },
    "tags": []
   },
   "outputs": [
    {
     "name": "stdout",
     "output_type": "stream",
     "text": [
      "970\r\n",
      "242\r\n"
     ]
    }
   ],
   "source": [
    "!ls {train_folder} | wc -l\n",
    "!ls {test_folder} | wc -l"
   ]
  },
  {
   "cell_type": "code",
   "execution_count": 12,
   "id": "907feaaa",
   "metadata": {
    "execution": {
     "iopub.execute_input": "2022-06-26T05:52:33.262620Z",
     "iopub.status.busy": "2022-06-26T05:52:33.262289Z",
     "iopub.status.idle": "2022-06-26T05:52:34.122140Z",
     "shell.execute_reply": "2022-06-26T05:52:34.121380Z"
    },
    "papermill": {
     "duration": 0.870719,
     "end_time": "2022-06-26T05:52:34.124430",
     "exception": false,
     "start_time": "2022-06-26T05:52:33.253711",
     "status": "completed"
    },
    "tags": []
   },
   "outputs": [
    {
     "name": "stderr",
     "output_type": "stream",
     "text": [
      "100%|██████████| 485/485 [00:00<00:00, 1507.26it/s]\n",
      "100%|██████████| 485/485 [00:00<00:00, 1390.16it/s]\n",
      "100%|██████████| 121/121 [00:00<00:00, 1542.60it/s]\n",
      "100%|██████████| 121/121 [00:00<00:00, 1518.54it/s]\n"
     ]
    }
   ],
   "source": [
    "train_img_files = np.sort(glob.glob(os.path.join('cellpose_dataset_train', '*img.tif')))\n",
    "train_mask_files = np.sort(glob.glob(os.path.join('cellpose_dataset_train', '*masks.tif')))\n",
    "\n",
    "val_img_files = np.sort(glob.glob(os.path.join('cellpose_dataset_val', '*img.tif')))\n",
    "val_mask_files = np.sort(glob.glob(os.path.join('cellpose_dataset_val', \"*masks.tif\")))\n",
    "\n",
    "assert (len(train_img_files ) == len(train_mask_files)) and (len(val_img_files) == len(val_mask_files))\n",
    "\n",
    "train_imgs = [tifffile.imread(img_file) for img_file in tqdm(train_img_files)]\n",
    "train_masks = [tifffile.imread(flows_file) for flows_file in tqdm(train_mask_files)]\n",
    "\n",
    "val_imgs = [tifffile.imread(img_file) for img_file in tqdm(val_img_files)]\n",
    "val_masks = [tifffile.imread(flows_file) for flows_file in tqdm(val_mask_files)]"
   ]
  },
  {
   "cell_type": "markdown",
   "id": "54b6e203",
   "metadata": {
    "papermill": {
     "duration": 0.008239,
     "end_time": "2022-06-26T05:52:34.142158",
     "exception": false,
     "start_time": "2022-06-26T05:52:34.133919",
     "status": "completed"
    },
    "tags": []
   },
   "source": [
    "## <font color='gold'/> **Train**"
   ]
  },
  {
   "cell_type": "code",
   "execution_count": 13,
   "id": "5a8e6cf6",
   "metadata": {
    "execution": {
     "iopub.execute_input": "2022-06-26T05:52:34.160408Z",
     "iopub.status.busy": "2022-06-26T05:52:34.159702Z",
     "iopub.status.idle": "2022-06-26T05:52:34.164041Z",
     "shell.execute_reply": "2022-06-26T05:52:34.163288Z"
    },
    "papermill": {
     "duration": 0.015172,
     "end_time": "2022-06-26T05:52:34.165674",
     "exception": false,
     "start_time": "2022-06-26T05:52:34.150502",
     "status": "completed"
    },
    "tags": []
   },
   "outputs": [],
   "source": [
    "from math import sqrt"
   ]
  },
  {
   "cell_type": "code",
   "execution_count": 14,
   "id": "8ef48493",
   "metadata": {
    "execution": {
     "iopub.execute_input": "2022-06-26T05:52:34.184009Z",
     "iopub.status.busy": "2022-06-26T05:52:34.183746Z",
     "iopub.status.idle": "2022-06-26T05:52:34.188976Z",
     "shell.execute_reply": "2022-06-26T05:52:34.188200Z"
    },
    "papermill": {
     "duration": 0.016382,
     "end_time": "2022-06-26T05:52:34.190635",
     "exception": false,
     "start_time": "2022-06-26T05:52:34.174253",
     "status": "completed"
    },
    "tags": []
   },
   "outputs": [],
   "source": [
    "init_lr = 0.001\n",
    "first_100_lr = np.array([init_lr * sqrt(0.1)] * 100)\n",
    "mid_100_lr = np.array([first_100_lr[0] * sqrt(0.1)] * 100)\n",
    "last_100_lr = np.array([mid_100_lr[0] * sqrt(0.1)] * 100)\n",
    "\n",
    "lrs = np.concatenate([first_100_lr, mid_100_lr, last_100_lr])"
   ]
  },
  {
   "cell_type": "code",
   "execution_count": 15,
   "id": "544fc940",
   "metadata": {
    "execution": {
     "iopub.execute_input": "2022-06-26T05:52:34.208576Z",
     "iopub.status.busy": "2022-06-26T05:52:34.207940Z",
     "iopub.status.idle": "2022-06-26T05:52:34.212980Z",
     "shell.execute_reply": "2022-06-26T05:52:34.212314Z"
    },
    "papermill": {
     "duration": 0.016072,
     "end_time": "2022-06-26T05:52:34.214900",
     "exception": false,
     "start_time": "2022-06-26T05:52:34.198828",
     "status": "completed"
    },
    "tags": []
   },
   "outputs": [],
   "source": [
    "cp_model_path = '../input/sartorius-weight/cellpose_250622_concat_epoch_500'\n",
    "#model_to_load = 'cyto' ## cyto, cyto2, nuclei\n",
    "number_of_epochs = 300  \n",
    "batch_size = 8\n",
    "Training_channel = 0 # For grayscale\n",
    "Second_training_channel= 0 \n",
    "#learning_rate = 0.001"
   ]
  },
  {
   "cell_type": "code",
   "execution_count": 16,
   "id": "74c9d5dc",
   "metadata": {
    "execution": {
     "iopub.execute_input": "2022-06-26T05:52:34.233060Z",
     "iopub.status.busy": "2022-06-26T05:52:34.232809Z",
     "iopub.status.idle": "2022-06-26T06:56:09.646827Z",
     "shell.execute_reply": "2022-06-26T06:56:09.645847Z"
    },
    "papermill": {
     "duration": 3815.425753,
     "end_time": "2022-06-26T06:56:09.649468",
     "exception": false,
     "start_time": "2022-06-26T05:52:34.223715",
     "status": "completed"
    },
    "tags": []
   },
   "outputs": [
    {
     "name": "stdout",
     "output_type": "stream",
     "text": [
      "creating new log file\n"
     ]
    },
    {
     "name": "stderr",
     "output_type": "stream",
     "text": [
      "100%|██████████| 485/485 [00:51<00:00,  9.34it/s]\n",
      "100%|██████████| 121/121 [00:12<00:00,  9.83it/s]\n"
     ]
    }
   ],
   "source": [
    "from cellpose.io import logger_setup\n",
    "logger, log_file = logger_setup()\n",
    "\n",
    "cp_model = models.CellposeModel(gpu=True, pretrained_model=cp_model_path, nchan=2, concatenation=True)\n",
    "\n",
    "start_time = time.time()\n",
    "\n",
    "model_path, epochs, loss_vls, val_loss_vls = cp_model.train(train_data=train_imgs, train_labels=train_masks,\n",
    "                            test_data=val_imgs, test_labels=val_masks,\n",
    "                            channels=[0, 0], save_path='./models', save_every=1, min_train_masks=5,\n",
    "                            learning_rate=lrs, n_epochs=number_of_epochs,\n",
    "                            model_name='cellpose_260622_concat_epoch_800')\n",
    "\n",
    "end_time = time.time()"
   ]
  },
  {
   "cell_type": "code",
   "execution_count": 17,
   "id": "ade82f27",
   "metadata": {
    "execution": {
     "iopub.execute_input": "2022-06-26T06:56:09.702689Z",
     "iopub.status.busy": "2022-06-26T06:56:09.702306Z",
     "iopub.status.idle": "2022-06-26T06:56:09.707337Z",
     "shell.execute_reply": "2022-06-26T06:56:09.706539Z"
    },
    "papermill": {
     "duration": 0.033091,
     "end_time": "2022-06-26T06:56:09.709924",
     "exception": false,
     "start_time": "2022-06-26T06:56:09.676833",
     "status": "completed"
    },
    "tags": []
   },
   "outputs": [
    {
     "name": "stdout",
     "output_type": "stream",
     "text": [
      "Train 300 epochs took 1.0589249967866474\n"
     ]
    }
   ],
   "source": [
    "training_time = (end_time - start_time) / 3600\n",
    "\n",
    "print('Train {} epochs took {}'.format(number_of_epochs, training_time))"
   ]
  },
  {
   "cell_type": "code",
   "execution_count": 18,
   "id": "bdbb4fe0",
   "metadata": {
    "execution": {
     "iopub.execute_input": "2022-06-26T06:56:09.761614Z",
     "iopub.status.busy": "2022-06-26T06:56:09.760893Z",
     "iopub.status.idle": "2022-06-26T06:56:09.999439Z",
     "shell.execute_reply": "2022-06-26T06:56:09.998607Z"
    },
    "papermill": {
     "duration": 0.265639,
     "end_time": "2022-06-26T06:56:10.001189",
     "exception": false,
     "start_time": "2022-06-26T06:56:09.735550",
     "status": "completed"
    },
    "tags": []
   },
   "outputs": [
    {
     "data": {
      "image/png": "[encoded data removed]",
      "text/plain": [
       "<Figure size 432x288 with 1 Axes>"
      ]
     },
     "metadata": {
      "needs_background": "light"
     },
     "output_type": "display_data"
    }
   ],
   "source": [
    "fig = plt.figure(figsize=(6, 4))\n",
    "\n",
    "plt.plot(epochs, loss_vls)\n",
    "plt.plot(epochs, val_loss_vls)\n",
    "plt.legend(['loss', 'val_loss'])\n",
    "\n",
    "plt.xlabel('Epoch')\n",
    "plt.ylabel('Loss')\n",
    "\n",
    "plt.show()"
   ]
  },
  {
   "cell_type": "code",
   "execution_count": 19,
   "id": "a5c19f99",
   "metadata": {
    "execution": {
     "iopub.execute_input": "2022-06-26T06:56:10.054093Z",
     "iopub.status.busy": "2022-06-26T06:56:10.053415Z",
     "iopub.status.idle": "2022-06-26T06:56:10.058368Z",
     "shell.execute_reply": "2022-06-26T06:56:10.057438Z"
    },
    "papermill": {
     "duration": 0.034201,
     "end_time": "2022-06-26T06:56:10.061772",
     "exception": false,
     "start_time": "2022-06-26T06:56:10.027571",
     "status": "completed"
    },
    "tags": []
   },
   "outputs": [
    {
     "name": "stdout",
     "output_type": "stream",
     "text": [
      "Loss:  0.4702684104688897\n",
      "Val loss:  0.4533026001670144\n"
     ]
    }
   ],
   "source": [
    "print('Loss: ', loss_vls[-1])\n",
    "print('Val loss: ', val_loss_vls[-1])"
   ]
  },
  {
   "cell_type": "code",
   "execution_count": 20,
   "id": "c166b73e",
   "metadata": {
    "execution": {
     "iopub.execute_input": "2022-06-26T06:56:10.113857Z",
     "iopub.status.busy": "2022-06-26T06:56:10.113595Z",
     "iopub.status.idle": "2022-06-26T06:56:10.120123Z",
     "shell.execute_reply": "2022-06-26T06:56:10.119166Z"
    },
    "papermill": {
     "duration": 0.034928,
     "end_time": "2022-06-26T06:56:10.122175",
     "exception": false,
     "start_time": "2022-06-26T06:56:10.087247",
     "status": "completed"
    },
    "tags": []
   },
   "outputs": [
    {
     "data": {
      "text/plain": [
       "'./models/models/cellpose_260622_concat_epoch_800'"
      ]
     },
     "execution_count": 20,
     "metadata": {},
     "output_type": "execute_result"
    }
   ],
   "source": [
    "model_path"
   ]
  },
  {
   "cell_type": "code",
   "execution_count": null,
   "id": "f96ec18f",
   "metadata": {
    "papermill": {
     "duration": 0.025123,
     "end_time": "2022-06-26T06:56:10.172303",
     "exception": false,
     "start_time": "2022-06-26T06:56:10.147180",
     "status": "completed"
    },
    "tags": []
   },
   "outputs": [],
   "source": []
  }
 ],
 "metadata": {
  "kernelspec": {
   "display_name": "Python 3",
   "language": "python",
   "name": "python3"
  },
  "language_info": {
   "codemirror_mode": {
    "name": "ipython",
    "version": 3
   },
   "file_extension": ".py",
   "mimetype": "text/x-python",
   "name": "python",
   "nbconvert_exporter": "python",
   "pygments_lexer": "ipython3",
   "version": "3.7.12"
  },
  "papermill": {
   "default_parameters": {},
   "duration": 3996.817407,
   "end_time": "2022-06-26T06:56:12.792924",
   "environment_variables": {},
   "exception": null,
   "input_path": "__notebook__.ipynb",
   "output_path": "__notebook__.ipynb",
   "parameters": {},
   "start_time": "2022-06-26T05:49:35.975517",
   "version": "2.3.4"
  }
 },
 "nbformat": 4,
 "nbformat_minor": 5
}
