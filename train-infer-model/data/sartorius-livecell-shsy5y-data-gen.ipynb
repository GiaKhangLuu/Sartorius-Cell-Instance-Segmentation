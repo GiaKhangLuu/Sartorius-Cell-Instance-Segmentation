{
 "cells": [
  {
   "cell_type": "code",
   "execution_count": 1,
   "id": "f5f2ff16",
   "metadata": {
    "execution": {
     "iopub.execute_input": "2022-06-18T04:09:32.991040Z",
     "iopub.status.busy": "2022-06-18T04:09:32.990355Z",
     "iopub.status.idle": "2022-06-18T04:09:33.434665Z",
     "shell.execute_reply": "2022-06-18T04:09:33.433740Z"
    },
    "papermill": {
     "duration": 0.453309,
     "end_time": "2022-06-18T04:09:33.437153",
     "exception": false,
     "start_time": "2022-06-18T04:09:32.983844",
     "status": "completed"
    },
    "tags": []
   },
   "outputs": [],
   "source": [
    "import numpy as np\n",
    "import pandas as pd\n",
    "from tqdm import tqdm\n",
    "import matplotlib.pyplot as plt\n",
    "import os\n",
    "import sys\n",
    "import tifffile\n",
    "import imageio\n",
    "import glob\n",
    "import shutil\n",
    "import glob\n",
    "import shutil\n",
    "import time\n",
    "import cv2"
   ]
  },
  {
   "cell_type": "code",
   "execution_count": 2,
   "id": "65c0341e",
   "metadata": {
    "execution": {
     "iopub.execute_input": "2022-06-18T04:09:33.449227Z",
     "iopub.status.busy": "2022-06-18T04:09:33.448807Z",
     "iopub.status.idle": "2022-06-18T04:10:19.720610Z",
     "shell.execute_reply": "2022-06-18T04:10:19.719577Z"
    },
    "papermill": {
     "duration": 46.279549,
     "end_time": "2022-06-18T04:10:19.722970",
     "exception": false,
     "start_time": "2022-06-18T04:09:33.443421",
     "status": "completed"
    },
    "tags": []
   },
   "outputs": [
    {
     "name": "stdout",
     "output_type": "stream",
     "text": [
      "Collecting pycocotools\r\n",
      "  Downloading pycocotools-2.0.4.tar.gz (106 kB)\r\n",
      "\u001b[2K     \u001b[90m━━━━━━━━━━━━━━━━━━━━━━━━━━━━━━━━━━━━━\u001b[0m \u001b[32m106.6/106.6 kB\u001b[0m \u001b[31m273.3 kB/s\u001b[0m eta \u001b[36m0:00:00\u001b[0m\r\n",
      "\u001b[?25h  Installing build dependencies ... \u001b[?25l-\b \b\\\b \b|\b \b/\b \b-\b \b\\\b \b|\b \b/\b \b-\b \b\\\b \b|\b \b/\b \b-\b \bdone\r\n",
      "\u001b[?25h  Getting requirements to build wheel ... \u001b[?25l-\b \b\\\b \b|\b \b/\b \bdone\r\n",
      "\u001b[?25h  Preparing metadata (pyproject.toml) ... \u001b[?25l-\b \b\\\b \b|\b \b/\b \bdone\r\n",
      "\u001b[?25hRequirement already satisfied: matplotlib>=2.1.0 in /opt/conda/lib/python3.7/site-packages (from pycocotools) (3.5.2)\r\n",
      "Requirement already satisfied: numpy in /opt/conda/lib/python3.7/site-packages (from pycocotools) (1.21.6)\r\n",
      "Requirement already satisfied: python-dateutil>=2.7 in /opt/conda/lib/python3.7/site-packages (from matplotlib>=2.1.0->pycocotools) (2.8.2)\r\n",
      "Requirement already satisfied: cycler>=0.10 in /opt/conda/lib/python3.7/site-packages (from matplotlib>=2.1.0->pycocotools) (0.11.0)\r\n",
      "Requirement already satisfied: kiwisolver>=1.0.1 in /opt/conda/lib/python3.7/site-packages (from matplotlib>=2.1.0->pycocotools) (1.4.2)\r\n",
      "Requirement already satisfied: packaging>=20.0 in /opt/conda/lib/python3.7/site-packages (from matplotlib>=2.1.0->pycocotools) (21.3)\r\n",
      "Requirement already satisfied: pyparsing>=2.2.1 in /opt/conda/lib/python3.7/site-packages (from matplotlib>=2.1.0->pycocotools) (3.0.9)\r\n",
      "Requirement already satisfied: pillow>=6.2.0 in /opt/conda/lib/python3.7/site-packages (from matplotlib>=2.1.0->pycocotools) (9.1.0)\r\n",
      "Requirement already satisfied: fonttools>=4.22.0 in /opt/conda/lib/python3.7/site-packages (from matplotlib>=2.1.0->pycocotools) (4.33.3)\r\n",
      "Requirement already satisfied: typing-extensions in /opt/conda/lib/python3.7/site-packages (from kiwisolver>=1.0.1->matplotlib>=2.1.0->pycocotools) (4.2.0)\r\n",
      "Requirement already satisfied: six>=1.5 in /opt/conda/lib/python3.7/site-packages (from python-dateutil>=2.7->matplotlib>=2.1.0->pycocotools) (1.16.0)\r\n",
      "Building wheels for collected packages: pycocotools\r\n",
      "  Building wheel for pycocotools (pyproject.toml) ... \u001b[?25l-\b \b\\\b \b|\b \b/\b \b-\b \b\\\b \b|\b \b/\b \b-\b \b\\\b \b|\b \bdone\r\n",
      "\u001b[?25h  Created wheel for pycocotools: filename=pycocotools-2.0.4-cp37-cp37m-linux_x86_64.whl size=370078 sha256=4ce4a6243508af57c67d801dd45668ba2dc417ea7b466fd327feeb6dcfa35f77\r\n",
      "  Stored in directory: /root/.cache/pip/wheels/a3/5f/fa/f011e578cc76e1fc5be8dce30b3eb9fd00f337e744b3bba59b\r\n",
      "Successfully built pycocotools\r\n",
      "Installing collected packages: pycocotools\r\n",
      "Successfully installed pycocotools-2.0.4\r\n",
      "\u001b[33mWARNING: Running pip as the 'root' user can result in broken permissions and conflicting behaviour with the system package manager. It is recommended to use a virtual environment instead: https://pip.pypa.io/warnings/venv\u001b[0m\u001b[33m\r\n",
      "\u001b[0m"
     ]
    }
   ],
   "source": [
    "!pip install pycocotools"
   ]
  },
  {
   "cell_type": "code",
   "execution_count": 3,
   "id": "51bf312e",
   "metadata": {
    "execution": {
     "iopub.execute_input": "2022-06-18T04:10:19.738185Z",
     "iopub.status.busy": "2022-06-18T04:10:19.737676Z",
     "iopub.status.idle": "2022-06-18T04:10:19.743099Z",
     "shell.execute_reply": "2022-06-18T04:10:19.742063Z"
    },
    "papermill": {
     "duration": 0.016027,
     "end_time": "2022-06-18T04:10:19.745329",
     "exception": false,
     "start_time": "2022-06-18T04:10:19.729302",
     "status": "completed"
    },
    "tags": []
   },
   "outputs": [],
   "source": [
    "# Original Image Dimensions\n",
    "HEIGHT = 520\n",
    "WIDTH = 704\n",
    "SHAPE = (HEIGHT, WIDTH)"
   ]
  },
  {
   "cell_type": "code",
   "execution_count": 4,
   "id": "0675f096",
   "metadata": {
    "execution": {
     "iopub.execute_input": "2022-06-18T04:10:19.760244Z",
     "iopub.status.busy": "2022-06-18T04:10:19.759801Z",
     "iopub.status.idle": "2022-06-18T04:10:19.767765Z",
     "shell.execute_reply": "2022-06-18T04:10:19.766695Z"
    },
    "papermill": {
     "duration": 0.017022,
     "end_time": "2022-06-18T04:10:19.769507",
     "exception": false,
     "start_time": "2022-06-18T04:10:19.752485",
     "status": "completed"
    },
    "tags": []
   },
   "outputs": [],
   "source": [
    "def rles_to_mask(encs, shape=SHAPE):\n",
    "    \"\"\"\n",
    "    Decodes a rle.\n",
    "\n",
    "    Args:\n",
    "        encs (list of str): Rles for each class.\n",
    "        shape (tuple [2]): Mask size.\n",
    "\n",
    "    Returns:\n",
    "        np array [shape]: Mask.\n",
    "    \"\"\"\n",
    "    img = np.zeros(shape[0] * shape[1], dtype=np.uint)\n",
    "    if type(encs)==float:\n",
    "        return img\n",
    "    for m, enc in enumerate(encs):\n",
    "        if isinstance(enc, np.float) and np.isnan(enc):\n",
    "            continue\n",
    "        enc_split = enc.split()\n",
    "        for i in range(len(enc_split) // 2):\n",
    "            start = int(enc_split[2 * i]) - 1\n",
    "            length = int(enc_split[2 * i + 1])\n",
    "            img[start: start + length] = 1 + m\n",
    "    return img.reshape(shape)"
   ]
  },
  {
   "cell_type": "markdown",
   "id": "ffa73c70",
   "metadata": {
    "papermill": {
     "duration": 0.005955,
     "end_time": "2022-06-18T04:10:19.781802",
     "exception": false,
     "start_time": "2022-06-18T04:10:19.775847",
     "status": "completed"
    },
    "tags": []
   },
   "source": [
    "## <font color='emperal'/> **Prepare LIVECell data**"
   ]
  },
  {
   "cell_type": "code",
   "execution_count": 5,
   "id": "d2c053c1",
   "metadata": {
    "execution": {
     "iopub.execute_input": "2022-06-18T04:10:19.795659Z",
     "iopub.status.busy": "2022-06-18T04:10:19.795240Z",
     "iopub.status.idle": "2022-06-18T04:10:20.979425Z",
     "shell.execute_reply": "2022-06-18T04:10:20.978283Z"
    },
    "papermill": {
     "duration": 1.19363,
     "end_time": "2022-06-18T04:10:20.981646",
     "exception": false,
     "start_time": "2022-06-18T04:10:19.788016",
     "status": "completed"
    },
    "tags": []
   },
   "outputs": [],
   "source": [
    "import sys\n",
    "sys.path.append('../input/sartorius-helper-package')\n",
    "from livecell_dataset import LiveCell_Dataset"
   ]
  },
  {
   "cell_type": "code",
   "execution_count": 6,
   "id": "d3d14dce",
   "metadata": {
    "execution": {
     "iopub.execute_input": "2022-06-18T04:10:20.996570Z",
     "iopub.status.busy": "2022-06-18T04:10:20.995824Z",
     "iopub.status.idle": "2022-06-18T04:10:20.999911Z",
     "shell.execute_reply": "2022-06-18T04:10:20.999276Z"
    },
    "papermill": {
     "duration": 0.013917,
     "end_time": "2022-06-18T04:10:21.001799",
     "exception": false,
     "start_time": "2022-06-18T04:10:20.987882",
     "status": "completed"
    },
    "tags": []
   },
   "outputs": [],
   "source": [
    "# Define path constances\n",
    "SHSY5Y_LIVECELL_TRAIN_IMAGE_FOLDER = '../input/sartorius-cell-instance-segmentation/LIVECell_dataset_2021/images/livecell_train_val_images/SHSY5Y'\n",
    "SHSY5Y_LIVECELL_TRAIN_ANNOTATION_PATH = '../input/sartorius-cell-instance-segmentation/LIVECell_dataset_2021/annotations/LIVECell_single_cells/shsy5y/livecell_shsy5y_train.json'\n",
    "SHSY5Y_LIVECELL_VAL_ANNOTATION_PATH = '../input/sartorius-cell-instance-segmentation/LIVECell_dataset_2021/annotations/LIVECell_single_cells/shsy5y/livecell_shsy5y_val.json'"
   ]
  },
  {
   "cell_type": "code",
   "execution_count": 7,
   "id": "937aaef7",
   "metadata": {
    "execution": {
     "iopub.execute_input": "2022-06-18T04:10:21.016419Z",
     "iopub.status.busy": "2022-06-18T04:10:21.015637Z",
     "iopub.status.idle": "2022-06-18T04:10:21.821711Z",
     "shell.execute_reply": "2022-06-18T04:10:21.820092Z"
    },
    "papermill": {
     "duration": 0.81595,
     "end_time": "2022-06-18T04:10:21.824081",
     "exception": false,
     "start_time": "2022-06-18T04:10:21.008131",
     "status": "completed"
    },
    "tags": []
   },
   "outputs": [],
   "source": [
    "!mkdir ./train ./val"
   ]
  },
  {
   "cell_type": "code",
   "execution_count": 8,
   "id": "1f38f066",
   "metadata": {
    "execution": {
     "iopub.execute_input": "2022-06-18T04:10:21.839250Z",
     "iopub.status.busy": "2022-06-18T04:10:21.838465Z",
     "iopub.status.idle": "2022-06-18T04:16:09.018670Z",
     "shell.execute_reply": "2022-06-18T04:16:09.017194Z"
    },
    "papermill": {
     "duration": 347.190496,
     "end_time": "2022-06-18T04:16:09.020751",
     "exception": false,
     "start_time": "2022-06-18T04:10:21.830255",
     "status": "completed"
    },
    "tags": []
   },
   "outputs": [
    {
     "name": "stderr",
     "output_type": "stream",
     "text": [
      "100%|██████████| 165397/165397 [03:36<00:00, 765.40it/s]\n",
      "100%|██████████| 28199/28199 [00:36<00:00, 764.46it/s]\n",
      "449it [01:06,  6.73it/s]\n",
      "79it [00:12,  6.47it/s]\n",
      "165397it [00:00, 493232.99it/s]\n",
      "28199it [00:00, 479569.14it/s]\n"
     ]
    }
   ],
   "source": [
    "livecell_dataset = LiveCell_Dataset(image_folder=SHSY5Y_LIVECELL_TRAIN_IMAGE_FOLDER, \n",
    "                                    train_annotation_path=SHSY5Y_LIVECELL_TRAIN_ANNOTATION_PATH,\n",
    "                                    val_annotation_path=SHSY5Y_LIVECELL_VAL_ANNOTATION_PATH,\n",
    "                                    shape_target=SHAPE,\n",
    "                                    shape=SHAPE)\n",
    "\n",
    "# Convert polygon mask to rle\n",
    "livecell_dataset.convert_polygon_to_rle()\n",
    "\n",
    "# Save images to working dir\n",
    "livecell_dataset.save_image_to_working_dir('train', pad_img=False)\n",
    "livecell_dataset.save_image_to_working_dir('val', pad_img=False)\n",
    "\n",
    "# Get LiveCell DataFrame\n",
    "livecell_train_df = livecell_dataset.create_livecell_dataframe(img_group='train')\n",
    "livecell_val_df = livecell_dataset.create_livecell_dataframe(img_group='val')"
   ]
  },
  {
   "cell_type": "code",
   "execution_count": 9,
   "id": "48fb9421",
   "metadata": {
    "execution": {
     "iopub.execute_input": "2022-06-18T04:16:09.311311Z",
     "iopub.status.busy": "2022-06-18T04:16:09.310669Z",
     "iopub.status.idle": "2022-06-18T04:16:14.582830Z",
     "shell.execute_reply": "2022-06-18T04:16:14.581610Z"
    },
    "papermill": {
     "duration": 5.418182,
     "end_time": "2022-06-18T04:16:14.584956",
     "exception": false,
     "start_time": "2022-06-18T04:16:09.166774",
     "status": "completed"
    },
    "tags": []
   },
   "outputs": [],
   "source": [
    "!zip -r -q livecell_train.zip train\n",
    "!zip -r -q livecell_val.zip val"
   ]
  },
  {
   "cell_type": "code",
   "execution_count": 10,
   "id": "6b47cf35",
   "metadata": {
    "execution": {
     "iopub.execute_input": "2022-06-18T04:16:14.942302Z",
     "iopub.status.busy": "2022-06-18T04:16:14.941412Z",
     "iopub.status.idle": "2022-06-18T04:16:14.947130Z",
     "shell.execute_reply": "2022-06-18T04:16:14.945559Z"
    },
    "papermill": {
     "duration": 0.153186,
     "end_time": "2022-06-18T04:16:14.949394",
     "exception": false,
     "start_time": "2022-06-18T04:16:14.796208",
     "status": "completed"
    },
    "tags": []
   },
   "outputs": [],
   "source": [
    "#livecell_train_df = livecell_train_df.groupby('id')['annotation'].agg(list).reset_index()\n",
    "#livecell_val_df = livecell_val_df.groupby('id')['annotation'].agg(list).reset_index()"
   ]
  },
  {
   "cell_type": "code",
   "execution_count": 11,
   "id": "f9b0a05e",
   "metadata": {
    "execution": {
     "iopub.execute_input": "2022-06-18T04:16:15.233101Z",
     "iopub.status.busy": "2022-06-18T04:16:15.232665Z",
     "iopub.status.idle": "2022-06-18T04:16:15.255452Z",
     "shell.execute_reply": "2022-06-18T04:16:15.254326Z"
    },
    "papermill": {
     "duration": 0.167706,
     "end_time": "2022-06-18T04:16:15.257626",
     "exception": false,
     "start_time": "2022-06-18T04:16:15.089920",
     "status": "completed"
    },
    "tags": []
   },
   "outputs": [
    {
     "data": {
      "text/html": [
       "<div>\n",
       "<style scoped>\n",
       "    .dataframe tbody tr th:only-of-type {\n",
       "        vertical-align: middle;\n",
       "    }\n",
       "\n",
       "    .dataframe tbody tr th {\n",
       "        vertical-align: top;\n",
       "    }\n",
       "\n",
       "    .dataframe thead th {\n",
       "        text-align: right;\n",
       "    }\n",
       "</style>\n",
       "<table border=\"1\" class=\"dataframe\">\n",
       "  <thead>\n",
       "    <tr style=\"text-align: right;\">\n",
       "      <th></th>\n",
       "      <th>id</th>\n",
       "      <th>annotation</th>\n",
       "      <th>cell_type</th>\n",
       "    </tr>\n",
       "  </thead>\n",
       "  <tbody>\n",
       "    <tr>\n",
       "      <th>0</th>\n",
       "      <td>SHSY5Y_Phase_C10_2_00d04h00m_3</td>\n",
       "      <td>89136 1 89837 5 90540 8 91244 9 91949 9 92653 ...</td>\n",
       "      <td>shsy5y</td>\n",
       "    </tr>\n",
       "    <tr>\n",
       "      <th>1</th>\n",
       "      <td>SHSY5Y_Phase_C10_2_00d04h00m_3</td>\n",
       "      <td>185410 2 186114 13 186132 7 186817 29 187520 3...</td>\n",
       "      <td>shsy5y</td>\n",
       "    </tr>\n",
       "    <tr>\n",
       "      <th>2</th>\n",
       "      <td>SHSY5Y_Phase_C10_2_00d04h00m_3</td>\n",
       "      <td>183343 2 184044 5 184738 4 184747 7 185441 17 ...</td>\n",
       "      <td>shsy5y</td>\n",
       "    </tr>\n",
       "    <tr>\n",
       "      <th>3</th>\n",
       "      <td>SHSY5Y_Phase_C10_2_00d04h00m_3</td>\n",
       "      <td>165739 2 166442 3 167144 5 167847 7 168550 8 1...</td>\n",
       "      <td>shsy5y</td>\n",
       "    </tr>\n",
       "    <tr>\n",
       "      <th>4</th>\n",
       "      <td>SHSY5Y_Phase_C10_2_00d04h00m_3</td>\n",
       "      <td>173 8 876 10 1580 10 2283 12 2988 11 3692 11 4...</td>\n",
       "      <td>shsy5y</td>\n",
       "    </tr>\n",
       "    <tr>\n",
       "      <th>...</th>\n",
       "      <td>...</td>\n",
       "      <td>...</td>\n",
       "      <td>...</td>\n",
       "    </tr>\n",
       "    <tr>\n",
       "      <th>165392</th>\n",
       "      <td>SHSY5Y_Phase_B10_1_00d12h00m_3</td>\n",
       "      <td>25415 7 26115 18 26817 23 27519 28 28222 32 28...</td>\n",
       "      <td>shsy5y</td>\n",
       "    </tr>\n",
       "    <tr>\n",
       "      <th>165393</th>\n",
       "      <td>SHSY5Y_Phase_B10_1_00d12h00m_3</td>\n",
       "      <td>20500 6 21203 8 21905 11 22609 11 23312 13 240...</td>\n",
       "      <td>shsy5y</td>\n",
       "    </tr>\n",
       "    <tr>\n",
       "      <th>165394</th>\n",
       "      <td>SHSY5Y_Phase_B10_1_00d12h00m_3</td>\n",
       "      <td>80509 4 81211 7 81914 9 82603 2 82617 10 83308...</td>\n",
       "      <td>shsy5y</td>\n",
       "    </tr>\n",
       "    <tr>\n",
       "      <th>165395</th>\n",
       "      <td>SHSY5Y_Phase_B10_1_00d12h00m_3</td>\n",
       "      <td>93177 6 93879 10 94581 14 95284 16 95986 20 96...</td>\n",
       "      <td>shsy5y</td>\n",
       "    </tr>\n",
       "    <tr>\n",
       "      <th>165396</th>\n",
       "      <td>SHSY5Y_Phase_B10_1_00d12h00m_3</td>\n",
       "      <td>86848 3 87551 6 88254 7 88957 9 89661 9 90364 ...</td>\n",
       "      <td>shsy5y</td>\n",
       "    </tr>\n",
       "  </tbody>\n",
       "</table>\n",
       "<p>165397 rows × 3 columns</p>\n",
       "</div>"
      ],
      "text/plain": [
       "                                    id  \\\n",
       "0       SHSY5Y_Phase_C10_2_00d04h00m_3   \n",
       "1       SHSY5Y_Phase_C10_2_00d04h00m_3   \n",
       "2       SHSY5Y_Phase_C10_2_00d04h00m_3   \n",
       "3       SHSY5Y_Phase_C10_2_00d04h00m_3   \n",
       "4       SHSY5Y_Phase_C10_2_00d04h00m_3   \n",
       "...                                ...   \n",
       "165392  SHSY5Y_Phase_B10_1_00d12h00m_3   \n",
       "165393  SHSY5Y_Phase_B10_1_00d12h00m_3   \n",
       "165394  SHSY5Y_Phase_B10_1_00d12h00m_3   \n",
       "165395  SHSY5Y_Phase_B10_1_00d12h00m_3   \n",
       "165396  SHSY5Y_Phase_B10_1_00d12h00m_3   \n",
       "\n",
       "                                               annotation cell_type  \n",
       "0       89136 1 89837 5 90540 8 91244 9 91949 9 92653 ...    shsy5y  \n",
       "1       185410 2 186114 13 186132 7 186817 29 187520 3...    shsy5y  \n",
       "2       183343 2 184044 5 184738 4 184747 7 185441 17 ...    shsy5y  \n",
       "3       165739 2 166442 3 167144 5 167847 7 168550 8 1...    shsy5y  \n",
       "4       173 8 876 10 1580 10 2283 12 2988 11 3692 11 4...    shsy5y  \n",
       "...                                                   ...       ...  \n",
       "165392  25415 7 26115 18 26817 23 27519 28 28222 32 28...    shsy5y  \n",
       "165393  20500 6 21203 8 21905 11 22609 11 23312 13 240...    shsy5y  \n",
       "165394  80509 4 81211 7 81914 9 82603 2 82617 10 83308...    shsy5y  \n",
       "165395  93177 6 93879 10 94581 14 95284 16 95986 20 96...    shsy5y  \n",
       "165396  86848 3 87551 6 88254 7 88957 9 89661 9 90364 ...    shsy5y  \n",
       "\n",
       "[165397 rows x 3 columns]"
      ]
     },
     "execution_count": 11,
     "metadata": {},
     "output_type": "execute_result"
    }
   ],
   "source": [
    "livecell_train_df"
   ]
  },
  {
   "cell_type": "code",
   "execution_count": 12,
   "id": "c32cbd69",
   "metadata": {
    "execution": {
     "iopub.execute_input": "2022-06-18T04:16:15.540136Z",
     "iopub.status.busy": "2022-06-18T04:16:15.539438Z",
     "iopub.status.idle": "2022-06-18T04:16:16.838652Z",
     "shell.execute_reply": "2022-06-18T04:16:16.837553Z"
    },
    "papermill": {
     "duration": 1.44367,
     "end_time": "2022-06-18T04:16:16.841006",
     "exception": false,
     "start_time": "2022-06-18T04:16:15.397336",
     "status": "completed"
    },
    "tags": []
   },
   "outputs": [],
   "source": [
    "livecell_train_df.to_csv('./livecell_train.csv', index=False)"
   ]
  },
  {
   "cell_type": "code",
   "execution_count": 13,
   "id": "00b2b3aa",
   "metadata": {
    "execution": {
     "iopub.execute_input": "2022-06-18T04:16:17.130703Z",
     "iopub.status.busy": "2022-06-18T04:16:17.130026Z",
     "iopub.status.idle": "2022-06-18T04:16:17.141292Z",
     "shell.execute_reply": "2022-06-18T04:16:17.140537Z"
    },
    "papermill": {
     "duration": 0.160018,
     "end_time": "2022-06-18T04:16:17.143155",
     "exception": false,
     "start_time": "2022-06-18T04:16:16.983137",
     "status": "completed"
    },
    "tags": []
   },
   "outputs": [
    {
     "data": {
      "text/html": [
       "<div>\n",
       "<style scoped>\n",
       "    .dataframe tbody tr th:only-of-type {\n",
       "        vertical-align: middle;\n",
       "    }\n",
       "\n",
       "    .dataframe tbody tr th {\n",
       "        vertical-align: top;\n",
       "    }\n",
       "\n",
       "    .dataframe thead th {\n",
       "        text-align: right;\n",
       "    }\n",
       "</style>\n",
       "<table border=\"1\" class=\"dataframe\">\n",
       "  <thead>\n",
       "    <tr style=\"text-align: right;\">\n",
       "      <th></th>\n",
       "      <th>id</th>\n",
       "      <th>annotation</th>\n",
       "      <th>cell_type</th>\n",
       "    </tr>\n",
       "  </thead>\n",
       "  <tbody>\n",
       "    <tr>\n",
       "      <th>0</th>\n",
       "      <td>SHSY5Y_Phase_B10_2_00d00h00m_4</td>\n",
       "      <td>251701 2 252405 3 253108 4 253800 1 253812 5 2...</td>\n",
       "      <td>shsy5y</td>\n",
       "    </tr>\n",
       "    <tr>\n",
       "      <th>1</th>\n",
       "      <td>SHSY5Y_Phase_B10_2_00d00h00m_4</td>\n",
       "      <td>243238 6 243940 9 244642 12 245345 14 246047 1...</td>\n",
       "      <td>shsy5y</td>\n",
       "    </tr>\n",
       "    <tr>\n",
       "      <th>2</th>\n",
       "      <td>SHSY5Y_Phase_B10_2_00d00h00m_4</td>\n",
       "      <td>268237 7 268940 9 269643 11 270347 11 271050 1...</td>\n",
       "      <td>shsy5y</td>\n",
       "    </tr>\n",
       "    <tr>\n",
       "      <th>3</th>\n",
       "      <td>SHSY5Y_Phase_B10_2_00d00h00m_4</td>\n",
       "      <td>284441 5 285144 7 285847 9 286550 11 287254 12...</td>\n",
       "      <td>shsy5y</td>\n",
       "    </tr>\n",
       "    <tr>\n",
       "      <th>4</th>\n",
       "      <td>SHSY5Y_Phase_B10_2_00d00h00m_4</td>\n",
       "      <td>290772 2 291476 4 292179 7 292883 9 293587 11 ...</td>\n",
       "      <td>shsy5y</td>\n",
       "    </tr>\n",
       "    <tr>\n",
       "      <th>...</th>\n",
       "      <td>...</td>\n",
       "      <td>...</td>\n",
       "      <td>...</td>\n",
       "    </tr>\n",
       "    <tr>\n",
       "      <th>28194</th>\n",
       "      <td>SHSY5Y_Phase_B10_1_02d08h00m_2</td>\n",
       "      <td>222442 2 223144 5 223846 7 224549 9 225252 10 ...</td>\n",
       "      <td>shsy5y</td>\n",
       "    </tr>\n",
       "    <tr>\n",
       "      <th>28195</th>\n",
       "      <td>SHSY5Y_Phase_B10_1_02d08h00m_2</td>\n",
       "      <td>427 3 1131 4 1836 5 2540 6 3245 6 3949 7 4654 ...</td>\n",
       "      <td>shsy5y</td>\n",
       "    </tr>\n",
       "    <tr>\n",
       "      <th>28196</th>\n",
       "      <td>SHSY5Y_Phase_B10_1_02d08h00m_2</td>\n",
       "      <td>422 4 1124 7 1827 8 2530 10 3234 11 3939 10 46...</td>\n",
       "      <td>shsy5y</td>\n",
       "    </tr>\n",
       "    <tr>\n",
       "      <th>28197</th>\n",
       "      <td>SHSY5Y_Phase_B10_1_02d08h00m_2</td>\n",
       "      <td>404 17 1108 16 1813 14 2523 8 3228 6 3933 4 46...</td>\n",
       "      <td>shsy5y</td>\n",
       "    </tr>\n",
       "    <tr>\n",
       "      <th>28198</th>\n",
       "      <td>SHSY5Y_Phase_B10_1_02d08h00m_2</td>\n",
       "      <td>608 13 1311 13 2013 14 2706 25 3404 31 4104 35...</td>\n",
       "      <td>shsy5y</td>\n",
       "    </tr>\n",
       "  </tbody>\n",
       "</table>\n",
       "<p>28199 rows × 3 columns</p>\n",
       "</div>"
      ],
      "text/plain": [
       "                                   id  \\\n",
       "0      SHSY5Y_Phase_B10_2_00d00h00m_4   \n",
       "1      SHSY5Y_Phase_B10_2_00d00h00m_4   \n",
       "2      SHSY5Y_Phase_B10_2_00d00h00m_4   \n",
       "3      SHSY5Y_Phase_B10_2_00d00h00m_4   \n",
       "4      SHSY5Y_Phase_B10_2_00d00h00m_4   \n",
       "...                               ...   \n",
       "28194  SHSY5Y_Phase_B10_1_02d08h00m_2   \n",
       "28195  SHSY5Y_Phase_B10_1_02d08h00m_2   \n",
       "28196  SHSY5Y_Phase_B10_1_02d08h00m_2   \n",
       "28197  SHSY5Y_Phase_B10_1_02d08h00m_2   \n",
       "28198  SHSY5Y_Phase_B10_1_02d08h00m_2   \n",
       "\n",
       "                                              annotation cell_type  \n",
       "0      251701 2 252405 3 253108 4 253800 1 253812 5 2...    shsy5y  \n",
       "1      243238 6 243940 9 244642 12 245345 14 246047 1...    shsy5y  \n",
       "2      268237 7 268940 9 269643 11 270347 11 271050 1...    shsy5y  \n",
       "3      284441 5 285144 7 285847 9 286550 11 287254 12...    shsy5y  \n",
       "4      290772 2 291476 4 292179 7 292883 9 293587 11 ...    shsy5y  \n",
       "...                                                  ...       ...  \n",
       "28194  222442 2 223144 5 223846 7 224549 9 225252 10 ...    shsy5y  \n",
       "28195  427 3 1131 4 1836 5 2540 6 3245 6 3949 7 4654 ...    shsy5y  \n",
       "28196  422 4 1124 7 1827 8 2530 10 3234 11 3939 10 46...    shsy5y  \n",
       "28197  404 17 1108 16 1813 14 2523 8 3228 6 3933 4 46...    shsy5y  \n",
       "28198  608 13 1311 13 2013 14 2706 25 3404 31 4104 35...    shsy5y  \n",
       "\n",
       "[28199 rows x 3 columns]"
      ]
     },
     "execution_count": 13,
     "metadata": {},
     "output_type": "execute_result"
    }
   ],
   "source": [
    "livecell_val_df"
   ]
  },
  {
   "cell_type": "code",
   "execution_count": 14,
   "id": "2c83e57a",
   "metadata": {
    "execution": {
     "iopub.execute_input": "2022-06-18T04:16:17.427694Z",
     "iopub.status.busy": "2022-06-18T04:16:17.426941Z",
     "iopub.status.idle": "2022-06-18T04:16:17.648754Z",
     "shell.execute_reply": "2022-06-18T04:16:17.647713Z"
    },
    "papermill": {
     "duration": 0.367764,
     "end_time": "2022-06-18T04:16:17.651160",
     "exception": false,
     "start_time": "2022-06-18T04:16:17.283396",
     "status": "completed"
    },
    "tags": []
   },
   "outputs": [],
   "source": [
    "livecell_val_df.to_csv('./livecell_val.csv', index=False)"
   ]
  },
  {
   "cell_type": "code",
   "execution_count": null,
   "id": "908f216f",
   "metadata": {
    "papermill": {
     "duration": 0.197412,
     "end_time": "2022-06-18T04:16:17.991025",
     "exception": false,
     "start_time": "2022-06-18T04:16:17.793613",
     "status": "completed"
    },
    "tags": []
   },
   "outputs": [],
   "source": []
  }
 ],
 "metadata": {
  "kernelspec": {
   "display_name": "Python 3",
   "language": "python",
   "name": "python3"
  },
  "language_info": {
   "codemirror_mode": {
    "name": "ipython",
    "version": 3
   },
   "file_extension": ".py",
   "mimetype": "text/x-python",
   "name": "python",
   "nbconvert_exporter": "python",
   "pygments_lexer": "ipython3",
   "version": "3.7.12"
  },
  "papermill": {
   "default_parameters": {},
   "duration": 415.582821,
   "end_time": "2022-06-18T04:16:19.357474",
   "environment_variables": {},
   "exception": null,
   "input_path": "__notebook__.ipynb",
   "output_path": "__notebook__.ipynb",
   "parameters": {},
   "start_time": "2022-06-18T04:09:23.774653",
   "version": "2.3.4"
  }
 },
 "nbformat": 4,
 "nbformat_minor": 5
}
